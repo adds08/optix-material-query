{
 "cells": [
  {
   "cell_type": "code",
   "execution_count": 38,
   "metadata": {},
   "outputs": [
    {
     "name": "stdout",
     "output_type": "stream",
     "text": [
      "[{'item': 'chamfer ', 'quantity': '0'}, {'item': 'some Chairs', 'quantity': '0'}, {'item': '4\" drill bits', 'quantity': '4'}, {'item': \"2x4x16' lumber boards\", 'quantity': '3'}]\n"
     ]
    }
   ],
   "source": [
    "import spacy\n",
    "\n",
    "nlp = spacy.load(\"en_core_web_lg\")  # Load a small English language model\n",
    "\n",
    "extracted_nouns = []\n",
    "\n",
    "# Function to extract noun chunks from text\n",
    "def extract_noun_chunks(text):\n",
    "    doc = nlp(text)\n",
    "    noun_phrases = []\n",
    "    for chunk in doc.noun_chunks:\n",
    "        quantity = \"0\"\n",
    "        noun_part = []\n",
    "        firstPartToken = chunk[0]\n",
    "        secondPartToken = chunk[1:] if chunk[1:] is not None else ''\n",
    "        if firstPartToken.pos_ == \"NUM\":\n",
    "            if firstPartToken.is_digit:\n",
    "                quantity = firstPartToken.text\n",
    "            else:\n",
    "                quantity = \"0\"\n",
    "                noun_part.append(firstPartToken.text)\n",
    "        else:\n",
    "            quantity = \"0\"\n",
    "            noun_part.append(firstPartToken.text)     \n",
    "        noun_part.append(secondPartToken.text)\n",
    "        noun = \" \".join(noun_part)\n",
    "        noun_phrases.append({\"item\":noun,\"quantity\":quantity})\n",
    "    return noun_phrases\n",
    "\n",
    "# Example text\n",
    "text = \"chamfer, some Chairs, 4 4\\\" drill bits and 3 2x4x16' lumber boards.\"\n",
    "\n",
    "# Extract noun chunks\n",
    "extracted_nouns = extract_noun_chunks(text)\n",
    "# extracted_quantity = extract_quantity(text)\n",
    "print(extracted_nouns)\n",
    "# print(extracted_quantity)"
   ]
  },
  {
   "cell_type": "code",
   "execution_count": null,
   "metadata": {},
   "outputs": [],
   "source": [
    "from torch import Tensor\n",
    "\n"
   ]
  },
  {
   "cell_type": "code",
   "execution_count": null,
   "metadata": {},
   "outputs": [],
   "source": [
    "import json\n",
    "from spacy.matcher import Matcher\n",
    "\n",
    "\n",
    "doc = nlp(\"Hello, world! Hello world!\")\n",
    "matches = Matcher(doc)\n",
    "for match_id, start, end in matches:\n",
    "    string_id = nlp.vocab.strings[match_id]  # Get string representation\n",
    "    span = doc[start:end]  # The matched span\n",
    "    print(match_id, string_id, start, end, span.text)\n",
    "# Load and preprocess the data\n",
    "with open(\"labelled_data.json\", \"r\") as file:\n",
    "    data = json.load(file)\n",
    "\n",
    "patterns = data\n",
    "matcher = Matcher(nlp.vocab)\n",
    "\n",
    "matcher.add(text, [pattern])\n",
    "print([(ent.text, ent.label_) for ent in doc.ents])\n",
    "\n",
    "# # Function to extract noun chunks from text\n",
    "# def extract_noun_vs_quantity(text):\n",
    "#     # Tokenize the text\n",
    "#     doc = nlp(text)\n",
    "#     # Initialize list to store extracted noun chunks\n",
    "#     ex_nouns = []\n",
    "#     # Iterate through noun chunks\n",
    "#     for chunk in doc.noun_chunks:\n",
    "#         # Append lowercase text of noun chunk to the list\n",
    "#         for token in chunk:\n",
    "#             if token.is_stop:\n",
    "#                 break\n",
    "#             ex_nouns.append(chunk)\n",
    "#             break\n",
    "#     # Return the extracted noun chunks\n",
    "#     return ex_nouns\n",
    "\n",
    "\n",
    "# data = extract_noun_vs_quantity(extracted_nouns[0].text)\n",
    "# print(data)"
   ]
  }
 ],
 "metadata": {
  "kernelspec": {
   "display_name": "AIML",
   "language": "python",
   "name": "python3"
  },
  "language_info": {
   "codemirror_mode": {
    "name": "ipython",
    "version": 3
   },
   "file_extension": ".py",
   "mimetype": "text/x-python",
   "name": "python",
   "nbconvert_exporter": "python",
   "pygments_lexer": "ipython3",
   "version": "3.11.9"
  }
 },
 "nbformat": 4,
 "nbformat_minor": 2
}
